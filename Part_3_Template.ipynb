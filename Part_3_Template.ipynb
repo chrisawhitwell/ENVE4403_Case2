{
 "cells": [
  {
   "attachments": {},
   "cell_type": "markdown",
   "metadata": {},
   "source": [
    "### Case 1 Part 3\n",
    "You may find the following functions/methods useful:\n",
    "* xarray's `sel` method (see [here](http://xarray.pydata.org/en/stable/generated/xarray.DataArray.sel.html))\n",
    "* xarray's `integrate` method (see [here](http://xarray.pydata.org/en/stable/generated/xarray.DataArray.integrate.html))\n",
    "\n",
    "You can see examples of how to use '.sel' and '.integrate' in the [xarray documentation](https://docs.xarray.dev/en/stable/user-guide/computation.html#) or in the week 1 tutorials for the '.sel' method.\n",
    "\n",
    "Some other notes regarding python arithmetic operators:\n",
    "* In python, you can use the `**` operator to raise a number to a power. For example, `2 ** 3` is `8`.\n",
    "* In python, you can use the `+` operator to add two numbers. For example, `1 + 1` is `2`.\n",
    "* In python, you can use the `-` operator to subtract two numbers. For example, `1 - 1` is `0`.\n",
    "* In python, you can use the `*` operator to multiply two numbers. For example, `2 * 2` is `4`.\n",
    "* In python, you can use the `/` operator to divide two numbers. For example, `2 / 2` is `1`."
   ]
  },
  {
   "cell_type": "code",
   "execution_count": null,
   "metadata": {},
   "outputs": [],
   "source": [
    "import matplotlib.pyplot as plt\n",
    "import numpy as np\n",
    "import xarray as xr"
   ]
  },
  {
   "cell_type": "code",
   "execution_count": null,
   "metadata": {},
   "outputs": [],
   "source": [
    "# Load the data into a dataset using xarray called \"ds\"\n",
    "ds = xr.open_dataset() # Add the path to the file here as a string (e.g. \"file.nc\")\n",
    "# and look at the output\n",
    "ds"
   ]
  }
 ],
 "metadata": {
  "language_info": {
   "name": "python"
  },
  "orig_nbformat": 4
 },
 "nbformat": 4,
 "nbformat_minor": 2
}
