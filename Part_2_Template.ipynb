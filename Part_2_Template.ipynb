{
 "cells": [
  {
   "attachments": {},
   "cell_type": "markdown",
   "metadata": {},
   "source": [
    "### Case 1 Part 2: ADV Velocity Profile Plotting"
   ]
  },
  {
   "cell_type": "code",
   "execution_count": null,
   "metadata": {},
   "outputs": [],
   "source": [
    "import xarray as xr\n",
    "import numpy as np\n",
    "import matplotlib.pyplot as plt"
   ]
  },
  {
   "cell_type": "code",
   "execution_count": null,
   "metadata": {},
   "outputs": [],
   "source": [
    "# Load the data into a dataset using xarray called \"ds\"\n",
    "ds = xr.open_dataset() # Add the path to the file here as a string (e.g. \"file.nc\")\n",
    "# and look at the output\n",
    "ds"
   ]
  },
  {
   "cell_type": "code",
   "execution_count": null,
   "metadata": {},
   "outputs": [],
   "source": [
    "### Make the figure\n",
    "fig , axes = plt.subplots()\n",
    "\n",
    "### Plot the velocity profile in the x direction\n",
    "## we need to take the time-average to collapse the time dimension -  hint: use the .mean() function\n",
    "\n",
    "### Make sure the plot is labeled correctly\n",
    "## Hint: what are the units of u/u_max?\n",
    "\n",
    "### Save the figure\n",
    "fig.savefig(\"Case1_Part2.png\")"
   ]
  }
 ],
 "metadata": {
  "language_info": {
   "name": "python"
  },
  "orig_nbformat": 4
 },
 "nbformat": 4,
 "nbformat_minor": 2
}
